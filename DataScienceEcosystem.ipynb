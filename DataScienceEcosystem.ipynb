{
 "cells": [
  {
   "cell_type": "markdown",
   "id": "bd741cfd-18e3-47af-a4dd-9821cfd51033",
   "metadata": {},
   "source": [
    "# Data Science Tools and Ecosystem"
   ]
  },
  {
   "cell_type": "markdown",
   "id": "2e602749-de77-49d2-896b-f1009c664b30",
   "metadata": {},
   "source": [
    "In this notebook, Data Science Tools and Ecosystem are summarized.\n"
   ]
  },
  {
   "cell_type": "markdown",
   "id": "7353083d-1f0d-4c42-8cdb-b06d1f60c816",
   "metadata": {},
   "source": [
    "Objectives:\n",
    "* Popular languages dor Data Science\n",
    "* Popular libraries for data Science\n",
    "* Development environment Open source tools "
   ]
  },
  {
   "cell_type": "markdown",
   "id": "e72085c2-c3e6-43b7-9158-2cc7ec592b2a",
   "metadata": {},
   "source": [
    "Some of the popular languages that Data Scientists use are:\n",
    "1. Python\n",
    "2. R\n",
    "3. SQL"
   ]
  },
  {
   "cell_type": "markdown",
   "id": "648b68c6-97ee-4fd1-badf-a044e225d90c",
   "metadata": {},
   "source": [
    "Some of the commonly used libraries used by Data Scientists include:\n",
    "1. TensorFlow\n",
    "2. NumPy\n",
    "3. SciPy"
   ]
  },
  {
   "cell_type": "markdown",
   "id": "25fefcde-8dc7-40ec-9b00-160b6c11c64b",
   "metadata": {},
   "source": [
    "Development environment open source tools used in data science:\n",
    "\n",
    "|Data science Tools|\n",
    "-----------------\n",
    "|Jupyter Notebooks|\n",
    "|Apache Zepplin|\n",
    "|Rstudio|"
   ]
  },
  {
   "cell_type": "markdown",
   "id": "896d0956-ae38-462d-a7d6-561cbb2fc826",
   "metadata": {},
   "source": [
    "### Below are a few examples of evaluating arithmetic expressions in Python."
   ]
  },
  {
   "cell_type": "code",
   "execution_count": 5,
   "id": "b3831027-d7dc-45e9-8f85-96bb441589fb",
   "metadata": {
    "tags": []
   },
   "outputs": [
    {
     "data": {
      "text/plain": [
       "17"
      ]
     },
     "execution_count": 5,
     "metadata": {},
     "output_type": "execute_result"
    }
   ],
   "source": [
    "#This is a simple arithmetic expression to multiply then add integers\n",
    "\n",
    "(3*4)+5"
   ]
  },
  {
   "cell_type": "code",
   "execution_count": 6,
   "id": "4738f954-51c8-4a9a-b032-2c14e2aa0d5e",
   "metadata": {
    "tags": []
   },
   "outputs": [
    {
     "data": {
      "text/plain": [
       "3.3333333333333335"
      ]
     },
     "execution_count": 6,
     "metadata": {},
     "output_type": "execute_result"
    }
   ],
   "source": [
    "#This will convert 200 minutes to hours by dividing 60\n",
    "200/60"
   ]
  },
  {
   "cell_type": "markdown",
   "id": "ea6e7e67-0575-44b0-8e4d-3b5a049fd3ee",
   "metadata": {},
   "source": [
    "## Author "
   ]
  },
  {
   "cell_type": "markdown",
   "id": "944c4bbd-6e89-41f4-93bc-2930356724b7",
   "metadata": {},
   "source": [
    "Joseph Antony Roumanos"
   ]
  },
  {
   "cell_type": "code",
   "execution_count": null,
   "id": "fcb35d2c-d29f-4e01-9adc-20484c2fba23",
   "metadata": {},
   "outputs": [],
   "source": []
  }
 ],
 "metadata": {
  "kernelspec": {
   "display_name": "Python 3 (ipykernel)",
   "language": "python",
   "name": "python3"
  },
  "language_info": {
   "codemirror_mode": {
    "name": "ipython",
    "version": 3
   },
   "file_extension": ".py",
   "mimetype": "text/x-python",
   "name": "python",
   "nbconvert_exporter": "python",
   "pygments_lexer": "ipython3",
   "version": "3.11.4"
  }
 },
 "nbformat": 4,
 "nbformat_minor": 5
}
